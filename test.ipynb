{
 "cells": [
  {
   "cell_type": "code",
   "execution_count": 1,
   "id": "4598d4cd",
   "metadata": {},
   "outputs": [],
   "source": [
    "\n",
    "import numpy as np\n",
    "import pandas as pd\n",
    "import pickle"
   ]
  },
  {
   "cell_type": "code",
   "execution_count": 2,
   "id": "abed1486",
   "metadata": {},
   "outputs": [],
   "source": [
    "df=pickle.load(open(\"movie_recm.pkl\",\"rb\"))\n",
    "similarity=pickle.load(open(\"similarity.pkl\",\"rb\"))\n"
   ]
  },
  {
   "cell_type": "code",
   "execution_count": 22,
   "id": "4a893b44",
   "metadata": {},
   "outputs": [
    {
     "data": {
      "text/html": [
       "<div>\n",
       "<style scoped>\n",
       "    .dataframe tbody tr th:only-of-type {\n",
       "        vertical-align: middle;\n",
       "    }\n",
       "\n",
       "    .dataframe tbody tr th {\n",
       "        vertical-align: top;\n",
       "    }\n",
       "\n",
       "    .dataframe thead th {\n",
       "        text-align: right;\n",
       "    }\n",
       "</style>\n",
       "<table border=\"1\" class=\"dataframe\">\n",
       "  <thead>\n",
       "    <tr style=\"text-align: right;\">\n",
       "      <th></th>\n",
       "      <th>experience</th>\n",
       "      <th>job_description</th>\n",
       "      <th>job_desig</th>\n",
       "      <th>key_skills</th>\n",
       "      <th>location</th>\n",
       "      <th>salary</th>\n",
       "      <th>company_name_encoded</th>\n",
       "      <th>comb</th>\n",
       "      <th>lemmatized_text</th>\n",
       "    </tr>\n",
       "  </thead>\n",
       "  <tbody>\n",
       "    <tr>\n",
       "      <th>0</th>\n",
       "      <td>5-7 yrs</td>\n",
       "      <td>Exp: Minimum 5 years;Good understanding of IOC...</td>\n",
       "      <td>Senior Exploit and Vulnerability Researcher</td>\n",
       "      <td>team skills, communication skills, analytical ...</td>\n",
       "      <td>Delhi NCR(Vikas Puri)</td>\n",
       "      <td>6to10</td>\n",
       "      <td>3687</td>\n",
       "      <td>5-7 yrs Exp: Minimum 5 years;Good understandin...</td>\n",
       "      <td>5-7 yr exp: minimum 5 years;good understanding...</td>\n",
       "    </tr>\n",
       "  </tbody>\n",
       "</table>\n",
       "</div>"
      ],
      "text/plain": [
       "  experience                                    job_description  \\\n",
       "0    5-7 yrs  Exp: Minimum 5 years;Good understanding of IOC...   \n",
       "\n",
       "                                     job_desig  \\\n",
       "0  Senior Exploit and Vulnerability Researcher   \n",
       "\n",
       "                                          key_skills               location  \\\n",
       "0  team skills, communication skills, analytical ...  Delhi NCR(Vikas Puri)   \n",
       "\n",
       "  salary company_name_encoded  \\\n",
       "0  6to10                 3687   \n",
       "\n",
       "                                                comb  \\\n",
       "0  5-7 yrs Exp: Minimum 5 years;Good understandin...   \n",
       "\n",
       "                                     lemmatized_text  \n",
       "0  5-7 yr exp: minimum 5 years;good understanding...  "
      ]
     },
     "execution_count": 22,
     "metadata": {},
     "output_type": "execute_result"
    }
   ],
   "source": [
    "df.head(1)"
   ]
  },
  {
   "cell_type": "code",
   "execution_count": 9,
   "id": "6017348e",
   "metadata": {},
   "outputs": [
    {
     "name": "stdout",
     "output_type": "stream",
     "text": [
      "team skills, communication skills, analytical skills, problem solving...\n"
     ]
    }
   ],
   "source": [
    "print(df['key_skills'][0])"
   ]
  },
  {
   "cell_type": "code",
   "execution_count": 27,
   "id": "3add6c57",
   "metadata": {},
   "outputs": [],
   "source": [
    "def recommend(skills):\n",
    "    index = df[df['key_skills'] == skills].index[0]\n",
    "    distances = sorted(list(enumerate(similarity[index])),reverse=True,key = lambda x: x[1])\n",
    "    jd = []\n",
    "    ks = []\n",
    "    loc = []\n",
    "    sal = []\n",
    "    for i in distances[1:8]:\n",
    "        jd.append(df.iloc[i[0]].job_description)\n",
    "        ks.append(df.iloc[i[0]].key_skills)\n",
    "        loc.append(df.iloc[i[0]].location)\n",
    "        sal.append(df.iloc[i[0]].salary)\n",
    "    return jd, ks, loc, sal"
   ]
  },
  {
   "cell_type": "code",
   "execution_count": 28,
   "id": "669e26c7",
   "metadata": {},
   "outputs": [],
   "source": [
    "jd, ks, loc, sal = recommend('team skills, communication skills, analytical skills, problem solving...')"
   ]
  },
  {
   "cell_type": "code",
   "execution_count": 20,
   "id": "83c78b72",
   "metadata": {},
   "outputs": [],
   "source": [
    "opd = pd.DataFrame()"
   ]
  },
  {
   "cell_type": "code",
   "execution_count": 31,
   "id": "b38f27b4",
   "metadata": {},
   "outputs": [],
   "source": [
    "opd['job_description']= jd\n",
    "opd['key_skills']= ks\n",
    "opd['location']= loc\n",
    "opd['salary']= sal"
   ]
  },
  {
   "cell_type": "code",
   "execution_count": 32,
   "id": "392339e0",
   "metadata": {},
   "outputs": [
    {
     "data": {
      "text/html": [
       "<div>\n",
       "<style scoped>\n",
       "    .dataframe tbody tr th:only-of-type {\n",
       "        vertical-align: middle;\n",
       "    }\n",
       "\n",
       "    .dataframe tbody tr th {\n",
       "        vertical-align: top;\n",
       "    }\n",
       "\n",
       "    .dataframe thead th {\n",
       "        text-align: right;\n",
       "    }\n",
       "</style>\n",
       "<table border=\"1\" class=\"dataframe\">\n",
       "  <thead>\n",
       "    <tr style=\"text-align: right;\">\n",
       "      <th></th>\n",
       "      <th>job_description</th>\n",
       "      <th>key_skills</th>\n",
       "      <th>location</th>\n",
       "      <th>salary</th>\n",
       "    </tr>\n",
       "  </thead>\n",
       "  <tbody>\n",
       "    <tr>\n",
       "      <th>0</th>\n",
       "      <td>Exp: Minimum 5 years;Good understanding of IOC...</td>\n",
       "      <td>team skills, communication skills, analytical ...</td>\n",
       "      <td>Delhi NCR(Vikas Puri)</td>\n",
       "      <td>10to15</td>\n",
       "    </tr>\n",
       "    <tr>\n",
       "      <th>1</th>\n",
       "      <td>Excellent research skills, analytical skills, ...</td>\n",
       "      <td>rfp, presales, software services, analytical s...</td>\n",
       "      <td>Delhi NCR</td>\n",
       "      <td>6to10</td>\n",
       "    </tr>\n",
       "    <tr>\n",
       "      <th>2</th>\n",
       "      <td>Should have good logical and analytical skills...</td>\n",
       "      <td>communication skills, web technologies, analyt...</td>\n",
       "      <td>Chandigarh</td>\n",
       "      <td>6to10</td>\n",
       "    </tr>\n",
       "    <tr>\n",
       "      <th>3</th>\n",
       "      <td>Along with good analytical and problem solving...</td>\n",
       "      <td>Interface Builder, Objective C, IOS, Swift, Ap...</td>\n",
       "      <td>Hyderabad</td>\n",
       "      <td>10to15</td>\n",
       "    </tr>\n",
       "    <tr>\n",
       "      <th>4</th>\n",
       "      <td>Along with good analytical and problem solving...</td>\n",
       "      <td>Interface Builder, Objective C, IOS, Swift, Ap...</td>\n",
       "      <td>Hyderabad</td>\n",
       "      <td>15to25</td>\n",
       "    </tr>\n",
       "    <tr>\n",
       "      <th>5</th>\n",
       "      <td>Experience Required: Minimum 5 years; Skills r...</td>\n",
       "      <td>C#, C++, WPF, Software Engineering, Delphi, Da...</td>\n",
       "      <td>Delhi NCR(Vikas Puri)</td>\n",
       "      <td>6to10</td>\n",
       "    </tr>\n",
       "    <tr>\n",
       "      <th>6</th>\n",
       "      <td>Good written and verbal communications skills;...</td>\n",
       "      <td>BPO, Customer service, Recruitment, Consulting...</td>\n",
       "      <td>Bengaluru</td>\n",
       "      <td>6to10</td>\n",
       "    </tr>\n",
       "  </tbody>\n",
       "</table>\n",
       "</div>"
      ],
      "text/plain": [
       "                                     job_description  \\\n",
       "0  Exp: Minimum 5 years;Good understanding of IOC...   \n",
       "1  Excellent research skills, analytical skills, ...   \n",
       "2  Should have good logical and analytical skills...   \n",
       "3  Along with good analytical and problem solving...   \n",
       "4  Along with good analytical and problem solving...   \n",
       "5  Experience Required: Minimum 5 years; Skills r...   \n",
       "6  Good written and verbal communications skills;...   \n",
       "\n",
       "                                          key_skills               location  \\\n",
       "0  team skills, communication skills, analytical ...  Delhi NCR(Vikas Puri)   \n",
       "1  rfp, presales, software services, analytical s...              Delhi NCR   \n",
       "2  communication skills, web technologies, analyt...             Chandigarh   \n",
       "3  Interface Builder, Objective C, IOS, Swift, Ap...              Hyderabad   \n",
       "4  Interface Builder, Objective C, IOS, Swift, Ap...              Hyderabad   \n",
       "5  C#, C++, WPF, Software Engineering, Delphi, Da...  Delhi NCR(Vikas Puri)   \n",
       "6  BPO, Customer service, Recruitment, Consulting...              Bengaluru   \n",
       "\n",
       "   salary  \n",
       "0  10to15  \n",
       "1   6to10  \n",
       "2   6to10  \n",
       "3  10to15  \n",
       "4  15to25  \n",
       "5   6to10  \n",
       "6   6to10  "
      ]
     },
     "execution_count": 32,
     "metadata": {},
     "output_type": "execute_result"
    }
   ],
   "source": [
    "opd"
   ]
  },
  {
   "cell_type": "code",
   "execution_count": null,
   "id": "fb10db20",
   "metadata": {},
   "outputs": [],
   "source": []
  }
 ],
 "metadata": {
  "kernelspec": {
   "display_name": "Python 3 (ipykernel)",
   "language": "python",
   "name": "python3"
  },
  "language_info": {
   "codemirror_mode": {
    "name": "ipython",
    "version": 3
   },
   "file_extension": ".py",
   "mimetype": "text/x-python",
   "name": "python",
   "nbconvert_exporter": "python",
   "pygments_lexer": "ipython3",
   "version": "3.10.8"
  }
 },
 "nbformat": 4,
 "nbformat_minor": 5
}
